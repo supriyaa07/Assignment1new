{
  "cells": [
    {
      "cell_type": "markdown",
      "metadata": {
        "id": "view-in-github",
        "colab_type": "text"
      },
      "source": [
        "<a href=\"https://colab.research.google.com/github/supriyaa07/Assignment1new/blob/main/Welcome_To_Colaboratory.ipynb\" target=\"_parent\"><img src=\"https://colab.research.google.com/assets/colab-badge.svg\" alt=\"Open In Colab\"/></a>"
      ]
    },
    {
      "cell_type": "code",
      "source": [
        "L=[]\n",
        "count=int(input(\"Enter the total count of elements:\"))\n",
        "for i in range(0,count):\n",
        "  L.append(int(input(\"enter the values\")))\n",
        "print(L)\n",
        "\n",
        "L.append(50)\n",
        "L.append(60)\n",
        "L.remove(11)\n",
        "L.remove(13)\n",
        "L.sort()\n",
        "print(L)\n",
        "L.sort(reverse=True)\n",
        "print(L)\n",
        "print(\"Is 13 present-->\", 13 in L)\n",
        "print(len(L))\n",
        "print(sum(L))\n",
        "even=0\n",
        "odd=0\n",
        "for i in L:\n",
        "  if i%2==0:\n",
        "    even=even+i\n",
        "  else:\n",
        "    odd=odd+i\n",
        "print(\"Sum of odd numbers in list:\", odd)\n",
        "print(\"Sum of even numbers in list:\", even)\n",
        "L.clear()\n",
        "del L"
      ],
      "metadata": {
        "colab": {
          "base_uri": "https://localhost:8080/"
        },
        "id": "9HuDhNLKVHP9",
        "outputId": "5556d394-2936-40a5-f098-f8eb23e4375c"
      },
      "execution_count": 18,
      "outputs": [
        {
          "output_type": "stream",
          "name": "stdout",
          "text": [
            "Enter the total count of elements:4\n",
            "enter the values11\n",
            "enter the values12\n",
            "enter the values13\n",
            "enter the values14\n",
            "[11, 12, 13, 14]\n",
            "[12, 14, 50, 60]\n",
            "[60, 50, 14, 12]\n",
            "Is 13 present--> False\n",
            "4\n",
            "136\n",
            "Sum of odd numbers in list: 0\n",
            "Sum of even numbers in list: 136\n"
          ]
        }
      ]
    }
  ],
  "metadata": {
    "colab": {
      "name": "Welcome To Colaboratory",
      "toc_visible": true,
      "provenance": [],
      "include_colab_link": true
    },
    "kernelspec": {
      "display_name": "Python 3",
      "name": "python3"
    }
  },
  "nbformat": 4,
  "nbformat_minor": 0
}