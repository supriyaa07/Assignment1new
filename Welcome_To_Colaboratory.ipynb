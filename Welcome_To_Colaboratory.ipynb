{
  "cells": [
    {
      "cell_type": "markdown",
      "metadata": {
        "id": "view-in-github",
        "colab_type": "text"
      },
      "source": [
        "<a href=\"https://colab.research.google.com/github/supriyaa07/Assignment1new/blob/main/Welcome_To_Colaboratory.ipynb\" target=\"_parent\"><img src=\"https://colab.research.google.com/assets/colab-badge.svg\" alt=\"Open In Colab\"/></a>"
      ]
    },
    {
      "cell_type": "code",
      "source": [
        "L=[]\n",
        "count=int(input(\"Enter the total count of elements:\"))\n",
        "for i in range(0,count):\n",
        "  L.append(int(input(\"enter the values\")))\n",
        "print(L)\n",
        "\n",
        "L.append(50)\n",
        "L.append(60)\n",
        "L.remove(11)\n",
        "L.remove(13)\n",
        "L.sort()\n",
        "print(L)\n",
        "L.sort(reverse=True)\n",
        "print(L)\n",
        "print(\"Is 13 present-->\", 13 in L)\n",
        "print(len(L))\n",
        "print(sum(L))\n",
        "even=0\n",
        "odd=0\n",
        "for i in L:\n",
        "  if i%2==0:\n",
        "    even=even+i\n",
        "  else:\n",
        "    odd=odd+i\n",
        "print(\"Sum of odd numbers in list:\", odd)\n",
        "print(\"Sum of even numbers in list:\", even)\n",
        "L.clear()\n",
        "del L"
      ],
      "metadata": {
        "colab": {
          "base_uri": "https://localhost:8080/"
        },
        "id": "9HuDhNLKVHP9",
        "outputId": "5556d394-2936-40a5-f098-f8eb23e4375c"
      },
      "execution_count": null,
      "outputs": [
        {
          "output_type": "stream",
          "name": "stdout",
          "text": [
            "Enter the total count of elements:4\n",
            "enter the values11\n",
            "enter the values12\n",
            "enter the values13\n",
            "enter the values14\n",
            "[11, 12, 13, 14]\n",
            "[12, 14, 50, 60]\n",
            "[60, 50, 14, 12]\n",
            "Is 13 present--> False\n",
            "4\n",
            "136\n",
            "Sum of odd numbers in list: 0\n",
            "Sum of even numbers in list: 136\n"
          ]
        }
      ]
    },
    {
      "cell_type": "code",
      "source": [
        "d={1:5.6,2:7.8,3:6.6,4:8.7,5:7.7}\n",
        "d[8]=8.8\n",
        "print(d)\n",
        "del d[2]\n",
        "print(d)\n",
        "print(\"is key 6 present-->\", 2 in d)\n",
        "print(len(d))\n",
        "sum1=0\n",
        "for i in d:\n",
        "  sum1=sum1+d[i]\n",
        "print(sum1)\n",
        "d[3]=7.1\n",
        "print(d)\n",
        "d.clear()\n",
        "print(d)"
      ],
      "metadata": {
        "id": "2weTuBfqxuRp",
        "outputId": "abbadca5-d460-48be-9174-21e5476d89e9",
        "colab": {
          "base_uri": "https://localhost:8080/"
        }
      },
      "execution_count": 4,
      "outputs": [
        {
          "output_type": "stream",
          "name": "stdout",
          "text": [
            "{1: 5.6, 2: 7.8, 3: 6.6, 4: 8.7, 5: 7.7, 8: 8.8}\n",
            "{1: 5.6, 3: 6.6, 4: 8.7, 5: 7.7, 8: 8.8}\n",
            "is key 6 present--> False\n",
            "5\n",
            "37.4\n",
            "{1: 5.6, 3: 7.1, 4: 8.7, 5: 7.7, 8: 8.8}\n",
            "{}\n"
          ]
        }
      ]
    },
    {
      "cell_type": "code",
      "source": [
        "S1 = set([10, 20, 30, 40, 50, 60])\n",
        "S2 = set([40, 50, 60, 70, 80, 90])\n",
        "S1.add(55)\n",
        "S1.add(66)\n",
        "print(\"After adding: \", S1)\n",
        "S1.remove(10)\n",
        "S1.remove(30)\n",
        "print(\"After removing: \",S1)\n",
        "print(\"40 is present: \", 40 in S1)\n",
        "print(\"Union: \", S1.union(S2))\n",
        "print(\"Intersection: \", S1.intersection(S2))\n",
        "print(\"Difference: \", S1-S2)"
      ],
      "metadata": {
        "id": "mvVR2Z0-8s6t",
        "outputId": "66f4a1a8-fe5e-4a08-bd95-d4856694ef72",
        "colab": {
          "base_uri": "https://localhost:8080/"
        }
      },
      "execution_count": 5,
      "outputs": [
        {
          "output_type": "stream",
          "name": "stdout",
          "text": [
            "After adding:  {66, 40, 10, 50, 20, 55, 60, 30}\n",
            "After removing:  {66, 40, 50, 20, 55, 60}\n",
            "40 is present:  True\n",
            "Union:  {66, 70, 40, 80, 50, 20, 55, 90, 60}\n",
            "Intersection:  {40, 50, 60}\n",
            "Difference:  {66, 20, 55}\n"
          ]
        }
      ]
    },
    {
      "cell_type": "code",
      "source": [
        "import string as s\n",
        "import random as r\n",
        "\n",
        "for i in range(0,101):\n",
        "  length = r.randint(6,8)\n",
        "  random = r.sample(s.ascii_letters,length)\n",
        "  random = \"\".join(random)\n",
        "  print(\"String : \", random)\n",
        "\n",
        "print(\" \")\n",
        "for i in range(600,801):\n",
        "  flag = 1\n",
        "  for j in range(2,401):\n",
        "    if(i%j==0):\n",
        "      flag = 0\n",
        "      break\n",
        "  if(flag == 1):\n",
        "    print(i)\n",
        "\n",
        "print(\" \")\n",
        "for i in range(100,1000):\n",
        "  if(i%7==0):\n",
        "    if(i%9==0):\n",
        "      print(i)"
      ],
      "metadata": {
        "id": "EcCCMupW9DJ0",
        "outputId": "09702909-ea3d-4123-8aa5-0167de10c58d",
        "colab": {
          "base_uri": "https://localhost:8080/"
        }
      },
      "execution_count": 6,
      "outputs": [
        {
          "output_type": "stream",
          "name": "stdout",
          "text": [
            "String :  rawURo\n",
            "String :  TlNapUEW\n",
            "String :  ZHCbneV\n",
            "String :  JrfWivn\n",
            "String :  WhIucZU\n",
            "String :  dwMSyCF\n",
            "String :  HMdUJm\n",
            "String :  sYxgqWEn\n",
            "String :  dSRwuio\n",
            "String :  ghjWAamZ\n",
            "String :  xzvowW\n",
            "String :  NpjQZP\n",
            "String :  WqpQUloa\n",
            "String :  tUPJMVN\n",
            "String :  DvlzEu\n",
            "String :  zvadZpHj\n",
            "String :  qYymPtrD\n",
            "String :  ZOIHEtf\n",
            "String :  dWHLcb\n",
            "String :  kTSlZAI\n",
            "String :  paQHlTPz\n",
            "String :  XISYgrtD\n",
            "String :  epBmSjKr\n",
            "String :  pvsmeP\n",
            "String :  URcHKa\n",
            "String :  LPKomJA\n",
            "String :  YqJbDMGE\n",
            "String :  YmjucILJ\n",
            "String :  xMedWtp\n",
            "String :  JrHVqeEa\n",
            "String :  XuLSnH\n",
            "String :  BhuGeav\n",
            "String :  ysUiGOh\n",
            "String :  iqVBmwkg\n",
            "String :  MbDaAl\n",
            "String :  sgbOwNMz\n",
            "String :  AarBVn\n",
            "String :  gjaCFU\n",
            "String :  qdlphu\n",
            "String :  VMLmQeUB\n",
            "String :  IoLwKZ\n",
            "String :  LWrCNE\n",
            "String :  KGqWCg\n",
            "String :  ACpetWvE\n",
            "String :  oizasK\n",
            "String :  tRajhUZf\n",
            "String :  uyzYNJfG\n",
            "String :  eVuwaYJo\n",
            "String :  twNWpI\n",
            "String :  DThnGYiP\n",
            "String :  HFwjSOe\n",
            "String :  TMkUVPm\n",
            "String :  wLoCIH\n",
            "String :  VHnEqfWj\n",
            "String :  PRcXIYk\n",
            "String :  rIReYaV\n",
            "String :  gJohAD\n",
            "String :  doBMmK\n",
            "String :  gPoKIiDV\n",
            "String :  bIhJqXG\n",
            "String :  eLIOuPg\n",
            "String :  YMyZduE\n",
            "String :  EQaivo\n",
            "String :  LZwclJ\n",
            "String :  vbICRfj\n",
            "String :  szlUOxBF\n",
            "String :  NsRqDry\n",
            "String :  NrMfpKmT\n",
            "String :  rjkwDW\n",
            "String :  dfDcxhVQ\n",
            "String :  iJnGtBYW\n",
            "String :  rEukqMSV\n",
            "String :  rMKEYx\n",
            "String :  TKwqQR\n",
            "String :  axJmOVE\n",
            "String :  vlXgnmjr\n",
            "String :  GYLzilqn\n",
            "String :  NJsQrc\n",
            "String :  AbhQHsWp\n",
            "String :  dRDxuohC\n",
            "String :  GxKDPWV\n",
            "String :  YFokzsSi\n",
            "String :  WOUSda\n",
            "String :  eVbkdOht\n",
            "String :  EWgRsUJ\n",
            "String :  yiBIvzuQ\n",
            "String :  SaEcoAM\n",
            "String :  HWBaMotK\n",
            "String :  KDZyWAB\n",
            "String :  rsxJRCU\n",
            "String :  fMLATD\n",
            "String :  kdVJWXu\n",
            "String :  HFdQvPtr\n",
            "String :  btSZpxe\n",
            "String :  RCyhBN\n",
            "String :  VYuCzmEG\n",
            "String :  nkFqKr\n",
            "String :  BmETINVa\n",
            "String :  QZuyoIph\n",
            "String :  SyUxqpOZ\n",
            "String :  yBGVFNJd\n",
            " \n",
            "601\n",
            "607\n",
            "613\n",
            "617\n",
            "619\n",
            "631\n",
            "641\n",
            "643\n",
            "647\n",
            "653\n",
            "659\n",
            "661\n",
            "673\n",
            "677\n",
            "683\n",
            "691\n",
            "701\n",
            "709\n",
            "719\n",
            "727\n",
            "733\n",
            "739\n",
            "743\n",
            "751\n",
            "757\n",
            "761\n",
            "769\n",
            "773\n",
            "787\n",
            "797\n",
            " \n",
            "126\n",
            "189\n",
            "252\n",
            "315\n",
            "378\n",
            "441\n",
            "504\n",
            "567\n",
            "630\n",
            "693\n",
            "756\n",
            "819\n",
            "882\n",
            "945\n"
          ]
        }
      ]
    },
    {
      "cell_type": "code",
      "source": [
        "import random as r\n",
        "b1 = []\n",
        "b2 = []\n",
        "for i in range(0,10):\n",
        "  b1 = b1 + [r.randint(10,30)]\n",
        "  b2 = b2 + [r.randint(10,30)]\n",
        "print(\"List 1: \", b1)\n",
        "print(\"List 2: \", b2)\n",
        "\n",
        "# Common numbers in the two lists\n",
        "l1 = set(b1)\n",
        "l2 = set(b2)\n",
        "print(\"Common numbers: \", l1.intersection(l2))\n",
        "\n",
        "# Unique numbers in both the list\n",
        "print(\"Unique in list 1: \", l1)\n",
        "print(\"Unique in list 2: \", l2)\n",
        "\n",
        "# Minimum in both the list\n",
        "print(\"Minimum in list 1: \", min(l1))\n",
        "print(\"Minimum in list 2: \", min(l2))\n",
        "\n",
        "# Maximum in both the list\n",
        "print(\"Maximum in list 1: \", max(l1))\n",
        "print(\"Maximum in list 2: \", max(l2))\n",
        "\n",
        "# Sum of both the lists\n",
        "sum1 = 0\n",
        "sum2 = 0\n",
        "for i in range(0,10):\n",
        "  sum1 = sum1 + b1[i]\n",
        "  sum2 = sum2 + b2[i]\n",
        "\n",
        "print(\"Sum of list 1: \", sum1)\n",
        "print(\"Sum of list 2: \", sum2)\n",
        ""
      ],
      "metadata": {
        "id": "KlJ--05F-SNR",
        "outputId": "0081852d-6865-474b-cb2f-433c11285325",
        "colab": {
          "base_uri": "https://localhost:8080/"
        }
      },
      "execution_count": 7,
      "outputs": [
        {
          "output_type": "stream",
          "name": "stdout",
          "text": [
            "List 1:  [25, 17, 21, 14, 23, 24, 28, 27, 17, 17]\n",
            "List 2:  [21, 18, 13, 22, 16, 10, 24, 25, 17, 22]\n",
            "Common numbers:  {24, 17, 21, 25}\n",
            "Unique in list 1:  {14, 17, 21, 23, 24, 25, 27, 28}\n",
            "Unique in list 2:  {10, 13, 16, 17, 18, 21, 22, 24, 25}\n",
            "Minimum in list 1:  14\n",
            "Minimum in list 2:  10\n",
            "Maximum in list 1:  28\n",
            "Maximum in list 2:  25\n",
            "Sum of list 1:  213\n",
            "Sum of list 2:  188\n"
          ]
        }
      ]
    },
    {
      "cell_type": "code",
      "source": [
        "import random as r\n",
        "b1 = []\n",
        "for i in range(0,100):\n",
        "  b1 = b1 + [r.randint(100,900)]\n",
        "print(b1)\n",
        "\n",
        "# All odd numbers\n",
        "print(\"Odd numers are :\")\n",
        "for i in range(0,100):\n",
        "  if(b1[i]%2!=0):\n",
        "    print(b1[i])\n",
        "\n",
        "# All even numbers\n",
        "print(\"Even numers are :\")\n",
        "for i in range(0,100):\n",
        "  if(b1[i]%2==0):\n",
        "    print(b1[i])\n",
        "\n",
        "# All prime numbers\n",
        "print(\"Prime numbers are :\")\n",
        "for i in range(0,100):\n",
        "  flag = 1\n",
        "  for j in range(2,450):\n",
        "    if(b1[i]%j==0):\n",
        "      flag = 0\n",
        "      break\n",
        "  if(flag == 1):\n",
        "    print(b1[i])"
      ],
      "metadata": {
        "id": "_doZHjsf_tPd",
        "outputId": "1b389522-a228-4c94-b7db-fa069dc53180",
        "colab": {
          "base_uri": "https://localhost:8080/"
        }
      },
      "execution_count": 8,
      "outputs": [
        {
          "output_type": "stream",
          "name": "stdout",
          "text": [
            "[512, 630, 169, 430, 794, 288, 566, 823, 830, 450, 399, 140, 737, 799, 305, 871, 857, 566, 666, 454, 836, 748, 194, 769, 745, 628, 162, 806, 456, 150, 602, 832, 121, 764, 654, 733, 818, 380, 568, 724, 133, 344, 885, 426, 486, 649, 788, 869, 789, 649, 113, 266, 622, 198, 536, 356, 713, 638, 312, 240, 181, 255, 535, 584, 645, 721, 235, 681, 764, 763, 585, 207, 854, 161, 218, 441, 345, 693, 570, 721, 242, 204, 109, 779, 531, 791, 463, 220, 387, 706, 594, 748, 610, 195, 153, 421, 500, 436, 345, 844]\n",
            "Odd numers are :\n",
            "169\n",
            "823\n",
            "399\n",
            "737\n",
            "799\n",
            "305\n",
            "871\n",
            "857\n",
            "769\n",
            "745\n",
            "121\n",
            "733\n",
            "133\n",
            "885\n",
            "649\n",
            "869\n",
            "789\n",
            "649\n",
            "113\n",
            "713\n",
            "181\n",
            "255\n",
            "535\n",
            "645\n",
            "721\n",
            "235\n",
            "681\n",
            "763\n",
            "585\n",
            "207\n",
            "161\n",
            "441\n",
            "345\n",
            "693\n",
            "721\n",
            "109\n",
            "779\n",
            "531\n",
            "791\n",
            "463\n",
            "387\n",
            "195\n",
            "153\n",
            "421\n",
            "345\n",
            "Even numers are :\n",
            "512\n",
            "630\n",
            "430\n",
            "794\n",
            "288\n",
            "566\n",
            "830\n",
            "450\n",
            "140\n",
            "566\n",
            "666\n",
            "454\n",
            "836\n",
            "748\n",
            "194\n",
            "628\n",
            "162\n",
            "806\n",
            "456\n",
            "150\n",
            "602\n",
            "832\n",
            "764\n",
            "654\n",
            "818\n",
            "380\n",
            "568\n",
            "724\n",
            "344\n",
            "426\n",
            "486\n",
            "788\n",
            "266\n",
            "622\n",
            "198\n",
            "536\n",
            "356\n",
            "638\n",
            "312\n",
            "240\n",
            "584\n",
            "764\n",
            "854\n",
            "218\n",
            "570\n",
            "242\n",
            "204\n",
            "220\n",
            "706\n",
            "594\n",
            "748\n",
            "610\n",
            "500\n",
            "436\n",
            "844\n",
            "Prime numbers are :\n",
            "823\n",
            "857\n",
            "769\n",
            "733\n",
            "463\n"
          ]
        }
      ]
    },
    {
      "cell_type": "code",
      "source": [
        "D={1:\"One\",2:\"Two\",3:\"Three\",4:\"Four\", 5:\"Five\"}\n",
        "f = open('result.txt','w')\n",
        "\n",
        "for i in D:\n",
        "  f.write(str(i) + \" \")\n",
        "  f.write(str(D[i]) + '\\n')\n",
        "f.close()"
      ],
      "metadata": {
        "id": "Bbl2oc6LAR3w"
      },
      "execution_count": 13,
      "outputs": []
    },
    {
      "cell_type": "code",
      "source": [
        "L=[\"One\",\"Two\",\"Three\",\"Four\",\"Five\"]\n",
        "\n",
        "f = open('result.txt','w')\n",
        "\n",
        "for i in range(0,len(L)):\n",
        "  f.write(L[i] + \" , \")\n",
        "  f.write(str(len(L[i])) + '\\n')\n",
        "f.close()"
      ],
      "metadata": {
        "id": "0JPAgzZnA0FF"
      },
      "execution_count": 14,
      "outputs": []
    },
    {
      "cell_type": "code",
      "source": [
        "import string as s\n",
        "import random as r\n",
        "\n",
        "f = open('result.txt', 'w')\n",
        "\n",
        "for i in range(0,100):\n",
        "  length = r.randint(10,15)\n",
        "  s1 = r.sample(s.ascii_letters, length)\n",
        "  s1 = \"\".join(s1)\n",
        "\n",
        "  f.write(s1 + '\\n')\n",
        "f.close()"
      ],
      "metadata": {
        "id": "8kRfgVJIBEDH"
      },
      "execution_count": 15,
      "outputs": []
    },
    {
      "cell_type": "code",
      "source": [
        "f = open('result.txt', 'w')\n",
        "\n",
        "for i in range(600,801):\n",
        "  flag = 1\n",
        "  for j in range(2,401):\n",
        "    if(i%j==0):\n",
        "      flag = 0\n",
        "      break\n",
        "  if(flag == 1):\n",
        "    f.write(str(i) + '\\n')\n",
        ""
      ],
      "metadata": {
        "id": "NZ55N5BEBWz_"
      },
      "execution_count": 16,
      "outputs": []
    },
    {
      "cell_type": "code",
      "source": [
        "import time\n",
        "\n",
        "# Start the timer\n",
        "start_time = time.time()\n",
        "\n",
        "f = open('result.txt', 'w')\n",
        "\n",
        "for i in range(600,801):\n",
        "  flag = 1\n",
        "  for j in range(2,401):\n",
        "    if(i%j==0):\n",
        "      flag = 0\n",
        "      break\n",
        "  if(flag == 1):\n",
        "    f.write(str(i) + '\\n')\n",
        "\n",
        "\n",
        "# End the timer\n",
        "end_time = time.time()\n",
        "\n",
        "elapsed_time = end_time - start_time\n",
        "print(\"Elapsed time: \", elapsed_time, \" seconds\")"
      ],
      "metadata": {
        "id": "BG3BalLjBcNQ",
        "outputId": "db5f56eb-b4b7-4d43-d380-dc29b749711f",
        "colab": {
          "base_uri": "https://localhost:8080/"
        }
      },
      "execution_count": 17,
      "outputs": [
        {
          "output_type": "stream",
          "name": "stdout",
          "text": [
            "Elapsed time:  0.003869771957397461  seconds\n"
          ]
        }
      ]
    },
    {
      "cell_type": "code",
      "source": [
        "import time\n",
        "import random as r\n",
        "import matplotlib.pyplot as plt\n",
        "\n",
        "elapsed_time = []\n",
        "l = []\n",
        "len = 5000\n",
        "\n",
        "for i in range(0,5):\n",
        "  start_time = time.time()\n",
        "\n",
        "  for j in range(0,len):\n",
        "    num = r.randint(0,len)\n",
        "    l = l + [num]\n",
        "\n",
        "  l.sort()\n",
        "  end_time = time.time()\n",
        "  elapsed_time = elapsed_time + [end_time - start_time]\n",
        "  len = len + 5000\n",
        "\n",
        "print(elapsed_time)\n",
        "\n",
        "x = [5000,10000,15000,20000,25000]\n",
        "plt.plot(x, elapsed_time)\n",
        "\n",
        "plt.xlabel('Number of Elements')\n",
        "plt.ylabel('Time Taken')\n",
        "\n",
        "plt.show()"
      ],
      "metadata": {
        "id": "DLt_fLF1Bpea",
        "outputId": "d11ea2aa-c57e-4770-d886-5d3856490856",
        "colab": {
          "base_uri": "https://localhost:8080/",
          "height": 466
        }
      },
      "execution_count": 18,
      "outputs": [
        {
          "output_type": "stream",
          "name": "stdout",
          "text": [
            "[0.18797016143798828, 1.2621889114379883, 2.442375898361206, 4.160137891769409, 8.939256429672241]\n"
          ]
        },
        {
          "output_type": "display_data",
          "data": {
            "text/plain": [
              "<Figure size 640x480 with 1 Axes>"
            ],
            "image/png": "[encoded data removed]"
          },
          "metadata": {}
        }
      ]
    },
    {
      "cell_type": "code",
      "source": [
        "l = []\n",
        "for i in range(1,6):\n",
        "  num = int(input(\"Enter the marks in subject \" +  str(i) + \": \"))\n",
        "  l = l + [num]\n",
        "print(\"Marks are: \", l)\n",
        "print(\"Maximum marks: \",max(l))\n",
        "print(\"Minimum marks: \",min(l))\n",
        "print(\"Average marks: \",sum(l)/len(l))"
      ],
      "metadata": {
        "id": "Xkf4WE_6B9Q4",
        "outputId": "d19da9c0-b3e0-4952-c83e-b82d9f06824e",
        "colab": {
          "base_uri": "https://localhost:8080/",
          "height": 339
        }
      },
      "execution_count": 20,
      "outputs": [
        {
          "output_type": "stream",
          "name": "stdout",
          "text": [
            "Enter the marks in subject 1: 5\n",
            "Enter the marks in subject 2: 8\n",
            "Enter the marks in subject 3: 7\n",
            "Enter the marks in subject 4: 2\n",
            "Enter the marks in subject 5: 4\n",
            "Marks are:  [5, 8, 7, 2, 4]\n",
            "Maximum marks:  8\n",
            "Minimum marks:  2\n"
          ]
        },
        {
          "output_type": "error",
          "ename": "TypeError",
          "evalue": "ignored",
          "traceback": [
            "\u001b[0;31m---------------------------------------------------------------------------\u001b[0m",
            "\u001b[0;31mTypeError\u001b[0m                                 Traceback (most recent call last)",
            "\u001b[0;32m<ipython-input-20-a64178208a6f>\u001b[0m in \u001b[0;36m<cell line: 8>\u001b[0;34m()\u001b[0m\n\u001b[1;32m      6\u001b[0m \u001b[0mprint\u001b[0m\u001b[0;34m(\u001b[0m\u001b[0;34m\"Maximum marks: \"\u001b[0m\u001b[0;34m,\u001b[0m\u001b[0mmax\u001b[0m\u001b[0;34m(\u001b[0m\u001b[0ml\u001b[0m\u001b[0;34m)\u001b[0m\u001b[0;34m)\u001b[0m\u001b[0;34m\u001b[0m\u001b[0;34m\u001b[0m\u001b[0m\n\u001b[1;32m      7\u001b[0m \u001b[0mprint\u001b[0m\u001b[0;34m(\u001b[0m\u001b[0;34m\"Minimum marks: \"\u001b[0m\u001b[0;34m,\u001b[0m\u001b[0mmin\u001b[0m\u001b[0;34m(\u001b[0m\u001b[0ml\u001b[0m\u001b[0;34m)\u001b[0m\u001b[0;34m)\u001b[0m\u001b[0;34m\u001b[0m\u001b[0;34m\u001b[0m\u001b[0m\n\u001b[0;32m----> 8\u001b[0;31m \u001b[0mprint\u001b[0m\u001b[0;34m(\u001b[0m\u001b[0;34m\"Average marks: \"\u001b[0m\u001b[0;34m,\u001b[0m\u001b[0msum\u001b[0m\u001b[0;34m(\u001b[0m\u001b[0ml\u001b[0m\u001b[0;34m)\u001b[0m\u001b[0;34m/\u001b[0m\u001b[0mlen\u001b[0m\u001b[0;34m(\u001b[0m\u001b[0ml\u001b[0m\u001b[0;34m)\u001b[0m\u001b[0;34m)\u001b[0m\u001b[0;34m\u001b[0m\u001b[0;34m\u001b[0m\u001b[0m\n\u001b[0m",
            "\u001b[0;31mTypeError\u001b[0m: 'int' object is not callable"
          ]
        }
      ]
    }
  ],
  "metadata": {
    "colab": {
      "name": "Welcome To Colaboratory",
      "toc_visible": true,
      "provenance": [],
      "include_colab_link": true
    },
    "kernelspec": {
      "display_name": "Python 3",
      "name": "python3"
    }
  },
  "nbformat": 4,
  "nbformat_minor": 0
}